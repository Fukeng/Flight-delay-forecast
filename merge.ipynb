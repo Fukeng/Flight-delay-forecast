{
 "cells": [
  {
   "cell_type": "code",
   "execution_count": 1,
   "metadata": {},
   "outputs": [],
   "source": [
    "import numpy as np\n",
    "import pandas as pd\n",
    "import matplotlib.pyplot as plt\n",
    "\n",
    "from datetime import datetime\n",
    "\n",
    "plt.rcParams['font.sans-serif'] = ['SimHei']\n",
    "plt.rcParams['axes.unicode_minus'] = False"
   ]
  },
  {
   "cell_type": "code",
   "execution_count": 2,
   "metadata": {},
   "outputs": [
    {
     "name": "stderr",
     "output_type": "stream",
     "text": [
      "C:\\anaconda3\\lib\\site-packages\\IPython\\core\\interactiveshell.py:3058: DtypeWarning: Columns (2,3) have mixed types. Specify dtype option on import or set low_memory=False.\n",
      "  interactivity=interactivity, compiler=compiler, result=result)\n"
     ]
    }
   ],
   "source": [
    "airport_city_file = open('训练集\\\\机场城市对应表.csv')\n",
    "airport_city = pd.read_csv(airport_city_file)\n",
    "\n",
    "weather_file = open('训练集\\\\2015年5月到2017年5月城市天气.csv', encoding='gbk')\n",
    "weather = pd.read_csv(weather_file)\n",
    "\n",
    "emergency_file = open('训练集\\\\2015年5月到2017年5月特情.csv', encoding='gbk')\n",
    "emergency = pd.read_csv(emergency_file)\n",
    "\n",
    "data_file = open('训练集\\\\2015年5月到2017年5月航班动态数据.csv', encoding='gbk')\n",
    "data = pd.read_csv(data_file)"
   ]
  },
  {
   "cell_type": "code",
   "execution_count": 3,
   "metadata": {},
   "outputs": [],
   "source": [
    "airport_city = airport_city.dropna()\n",
    "airport_city_dict = {}\n",
    "airport = airport_city['机场编码'].values\n",
    "city = airport_city['城市名称'].values\n",
    "for i in range(airport_city.shape[0]):\n",
    "    airport_city_dict[airport[i]] = city[i]"
   ]
  },
  {
   "cell_type": "code",
   "execution_count": 4,
   "metadata": {},
   "outputs": [],
   "source": [
    "emergency = emergency.drop('收集时间', axis = 1)\n",
    "def emergency_clean(it):\n",
    "    try:\n",
    "        it = it.upper()\n",
    "    except:\n",
    "        return np.nan      \n",
    "    if it in airport_city_dict.keys():\n",
    "        return it\n",
    "    else:\n",
    "        return np.nan\n",
    "\n",
    "emergency['特情机场'] = [emergency_clean(it) for it in emergency['特情机场']]\n",
    "emergency = emergency.dropna()\n",
    "\n",
    "emergency['开始时间'] = [datetime.strptime(it, \"%Y-%m-%d %H:%M:%SZ\") for it in emergency['开始时间']]\n",
    "emergency['结束时间'] = [datetime.strptime(it, \"%Y-%m-%d %H:%M:%SZ\") for it in emergency['结束时间']]"
   ]
  },
  {
   "cell_type": "code",
   "execution_count": 5,
   "metadata": {},
   "outputs": [],
   "source": [
    "data = data.drop(data.index[data['航班是否取消'] == '取消'], axis = 0)\n",
    "data['y'] = (data['实际起飞时间'] - data['计划起飞时间']) > 3 * 60 * 60\n",
    "data['延误时长'] = (data['实际起飞时间'] - data['计划起飞时间']) / (60 * 60)\n",
    "\n",
    "new_cols = ['天气', '最低气温','最高气温','特情内容']  \n",
    "data['计划起飞时间'] = [datetime.fromtimestamp(it) for it in data['计划起飞时间']]\n",
    "\n",
    "data = data.loc[[airport in airport_city_dict.keys() for airport in data['出发机场']],::]\n",
    " \n",
    "weather['日期'] = [datetime.strptime(it, \"%Y/%m/%d\").date() for it in weather['日期']]\n",
    "weather = weather.loc[[city in airport_city_dict.values() for city in weather['城市']],::]\n",
    "\n",
    "data['日期'] = [it.date() for it in data['计划起飞时间']]\n",
    "data['城市'] = [airport_city_dict[it] for it in data['出发机场']]\n",
    "data = data.drop(['航班是否取消'], axis = 1)"
   ]
  },
  {
   "cell_type": "code",
   "execution_count": 6,
   "metadata": {},
   "outputs": [
    {
     "name": "stderr",
     "output_type": "stream",
     "text": [
      "C:\\anaconda3\\lib\\site-packages\\ipykernel_launcher.py:15: SettingWithCopyWarning: \n",
      "A value is trying to be set on a copy of a slice from a DataFrame\n",
      "\n",
      "See the caveats in the documentation: http://pandas.pydata.org/pandas-docs/stable/user_guide/indexing.html#returning-a-view-versus-a-copy\n",
      "  from ipykernel import kernelapp as app\n"
     ]
    }
   ],
   "source": [
    "merge_data1 = pd.merge(data, weather, on = ['日期','城市'], how = 'left')\n",
    "\n",
    "emergency['日期'] = [it.date() for it in emergency['开始时间']]\n",
    "emergency['城市'] = [airport_city_dict[it] for it in emergency['特情机场']]\n",
    "\n",
    "merge_data2 = pd.merge(merge_data1, emergency, on = ['日期','城市'], how = 'left')\n",
    "merge_bool1 = merge_data2['开始时间'] <= merge_data2['计划起飞时间']\n",
    "merge_bool2 = merge_data2['结束时间'] >= merge_data2['计划起飞时间']\n",
    "merge_bool = np.stack([merge_bool1, merge_bool2], axis = 1)\n",
    "\n",
    "merge_index = np.all(merge_bool, 1)\n",
    "merge_data3_content = merge_data2['特情内容'].loc[merge_index]\n",
    "\n",
    "merge_data2['特情内容'] = [np.nan for i in range(merge_data2.shape[0])]\n",
    "merge_data2['特情内容'][merge_data3_content.index] = merge_data3_content\n",
    "\n",
    "merge_data4_col = ['出发机场', '到达机场', '航班编号', '计划起飞时间', '计划到达时间', '实际起飞时间', '实际到达时间', '飞机编号',\n",
    "       '延误时长', '日期', '城市', '天气', '最低气温', '最高气温', '特情内容', 'y']\n",
    "\n",
    "merge_data4 = merge_data2.loc[::, merge_data4_col]\n",
    "merge_data4.to_csv('merge_data.csv', index = False)"
   ]
  },
  {
   "cell_type": "code",
   "execution_count": null,
   "metadata": {},
   "outputs": [],
   "source": []
  }
 ],
 "metadata": {
  "kernelspec": {
   "display_name": "Python 3",
   "language": "python",
   "name": "python3"
  },
  "language_info": {
   "codemirror_mode": {
    "name": "ipython",
    "version": 3
   },
   "file_extension": ".py",
   "mimetype": "text/x-python",
   "name": "python",
   "nbconvert_exporter": "python",
   "pygments_lexer": "ipython3",
   "version": "3.7.1"
  }
 },
 "nbformat": 4,
 "nbformat_minor": 2
}
